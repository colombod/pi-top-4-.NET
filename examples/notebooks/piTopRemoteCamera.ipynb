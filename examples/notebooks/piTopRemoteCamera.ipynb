{
  "cells": [
    {
      "cell_type": "markdown",
      "metadata": {},
      "source": [
        "# Remote execution on piTop\n",
        "## Use the ```#!connect``` command to connect to .NET interactive running on your piTop"
      ]
    },
    {
      "cell_type": "code",
      "execution_count": 1,
      "metadata": {
        "dotnet_interactive": {
          "language": "csharp"
        }
      },
      "source": [
        "#!connect signalr --kernel-name pi-top --hub-url http://YOUR_ENDPOINT/kernelhub"
      ],
      "outputs": []
    },
    {
      "cell_type": "markdown",
      "metadata": {},
      "source": [
        "## Add a local nuget source and load the piTop packages"
      ]
    },
    {
      "cell_type": "code",
      "execution_count": 1,
      "metadata": {
        "dotnet_interactive": {
          "language": "csharp"
        }
      },
      "source": [
        "#!pi-top\n",
        "#i \"nuget:/home/pi/localNuget\""
      ],
      "outputs": []
    },
    {
      "cell_type": "code",
      "execution_count": 1,
      "metadata": {
        "dotnet_interactive": {
          "language": "csharp"
        }
      },
      "source": [
        "#!pi-top\n",
        "#r \"nuget:pi-top\"\n",
        "#r \"nuget:pi-top.MakerArchitecture.Foundation.Psi.DotNet.Interactive\"\n",
        "#r \"nuget:pi-top.Camera\""
      ],
      "outputs": []
    },
    {
      "cell_type": "code",
      "execution_count": 1,
      "metadata": {
        "dotnet_interactive": {
          "language": "csharp"
        }
      },
      "source": [
        "#!pi-top\n",
        "using PiTop;\n",
        "using PiTop.MakerArchitecture.Foundation;\n",
        "using PiTop.MakerArchitecture.Foundation.Components;\n",
        "using PiTop.MakerArchitecture.Foundation.Sensors;\n",
        "using PiTop.Camera;\n",
        "using OpenCvSharp;"
      ],
      "outputs": []
    },
    {
      "cell_type": "markdown",
      "metadata": {},
      "source": [
        "Create a module and load the camera extensions"
      ]
    },
    {
      "cell_type": "code",
      "execution_count": 1,
      "metadata": {
        "dotnet_interactive": {
          "language": "csharp"
        }
      },
      "source": [
        "#!pi-top\n",
        "var board = PiTop4Board.Instance.UseCamera();"
      ],
      "outputs": []
    },
    {
      "cell_type": "markdown",
      "metadata": {},
      "source": [
        "Create a camera"
      ]
    },
    {
      "cell_type": "code",
      "execution_count": 1,
      "metadata": {
        "dotnet_interactive": {
          "language": "csharp"
        }
      },
      "source": [
        "#!pi-top\n",
        "var camera = board.GetOrCreateCamera<OpenCvCamera>(0);"
      ],
      "outputs": []
    },
    {
      "cell_type": "markdown",
      "metadata": {},
      "source": [
        "Display the plate to check the wiring"
      ]
    },
    {
      "cell_type": "code",
      "execution_count": 1,
      "metadata": {
        "dotnet_interactive": {
          "language": "csharp"
        }
      },
      "source": [
        "#!pi-top\n",
        "var frame = camera.GetFrameAsMat();\n",
        "frame"
      ],
      "outputs": []
    }
  ],
  "metadata": {
    "kernelspec": {
      "display_name": ".NET (C#)",
      "language": "C#",
      "name": ".net-csharp"
    },
    "language_info": {
      "file_extension": ".cs",
      "mimetype": "text/x-csharp",
      "name": "C#",
      "pygments_lexer": "csharp",
      "version": "8.0"
    }
  },
  "nbformat": 4,
  "nbformat_minor": 4
}